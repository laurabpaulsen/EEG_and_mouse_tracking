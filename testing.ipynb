{
 "cells": [
  {
   "cell_type": "code",
   "execution_count": 1,
   "metadata": {},
   "outputs": [],
   "source": [
    "import pandas as pd"
   ]
  },
  {
   "cell_type": "code",
   "execution_count": 47,
   "metadata": {},
   "outputs": [],
   "source": [
    "practisedf = pd.read_csv('practisetrials.csv', sep = ';')"
   ]
  },
  {
   "cell_type": "code",
   "execution_count": 48,
   "metadata": {},
   "outputs": [],
   "source": [
    "practisedf = practisedf.sample(frac=1).reset_index(drop=True)"
   ]
  },
  {
   "cell_type": "code",
   "execution_count": 49,
   "metadata": {},
   "outputs": [
    {
     "data": {
      "text/html": [
       "<div>\n",
       "<style scoped>\n",
       "    .dataframe tbody tr th:only-of-type {\n",
       "        vertical-align: middle;\n",
       "    }\n",
       "\n",
       "    .dataframe tbody tr th {\n",
       "        vertical-align: top;\n",
       "    }\n",
       "\n",
       "    .dataframe thead th {\n",
       "        text-align: right;\n",
       "    }\n",
       "</style>\n",
       "<table border=\"1\" class=\"dataframe\">\n",
       "  <thead>\n",
       "    <tr style=\"text-align: right;\">\n",
       "      <th></th>\n",
       "      <th>left_image</th>\n",
       "      <th>right_image</th>\n",
       "      <th>trial_type</th>\n",
       "      <th>correct_response</th>\n",
       "      <th>category</th>\n",
       "      <th>task</th>\n",
       "    </tr>\n",
       "  </thead>\n",
       "  <tbody>\n",
       "    <tr>\n",
       "      <th>0</th>\n",
       "      <td>stimuli/practise/zebra_hvid.png</td>\n",
       "      <td>stimuli/practise/blæk_lilla.png</td>\n",
       "      <td>congruent</td>\n",
       "      <td>left</td>\n",
       "      <td>animal</td>\n",
       "      <td>zebra</td>\n",
       "    </tr>\n",
       "    <tr>\n",
       "      <th>1</th>\n",
       "      <td>stimuli/practise/ost.png</td>\n",
       "      <td>stimuli/practise/chili.png</td>\n",
       "      <td>neutral</td>\n",
       "      <td>left</td>\n",
       "      <td>food</td>\n",
       "      <td>cheese</td>\n",
       "    </tr>\n",
       "    <tr>\n",
       "      <th>2</th>\n",
       "      <td>stimuli/practise/tornado.png</td>\n",
       "      <td>stimuli/practise/lyn.png</td>\n",
       "      <td>neutral</td>\n",
       "      <td>right</td>\n",
       "      <td>mood</td>\n",
       "      <td>lightning</td>\n",
       "    </tr>\n",
       "    <tr>\n",
       "      <th>3</th>\n",
       "      <td>stimuli/practise/tornado_grå.png</td>\n",
       "      <td>stimuli/practise/lyn_gul.png</td>\n",
       "      <td>congruent</td>\n",
       "      <td>right</td>\n",
       "      <td>mood</td>\n",
       "      <td>lightning</td>\n",
       "    </tr>\n",
       "    <tr>\n",
       "      <th>4</th>\n",
       "      <td>stimuli/practise/zebra_lilla.png</td>\n",
       "      <td>stimuli/practise/blæk_hvid.png</td>\n",
       "      <td>incongruent</td>\n",
       "      <td>right</td>\n",
       "      <td>animal</td>\n",
       "      <td>octopus</td>\n",
       "    </tr>\n",
       "    <tr>\n",
       "      <th>5</th>\n",
       "      <td>stimuli/practise/ost_rød.png</td>\n",
       "      <td>stimuli/practise/chili_gul.png</td>\n",
       "      <td>incongruent</td>\n",
       "      <td>right</td>\n",
       "      <td>food</td>\n",
       "      <td>chili</td>\n",
       "    </tr>\n",
       "    <tr>\n",
       "      <th>6</th>\n",
       "      <td>stimuli/practise/ost_gul.png</td>\n",
       "      <td>stimuli/practise/chili_rød.png</td>\n",
       "      <td>congruent</td>\n",
       "      <td>left</td>\n",
       "      <td>food</td>\n",
       "      <td>cheese</td>\n",
       "    </tr>\n",
       "    <tr>\n",
       "      <th>7</th>\n",
       "      <td>stimuli/practise/zebra.png</td>\n",
       "      <td>stimuli/practise/blæk.png</td>\n",
       "      <td>neutral</td>\n",
       "      <td>right</td>\n",
       "      <td>animal</td>\n",
       "      <td>octopus</td>\n",
       "    </tr>\n",
       "    <tr>\n",
       "      <th>8</th>\n",
       "      <td>stimuli/practise/lyn_grå.png</td>\n",
       "      <td>stimuli/practise/tornado_gul.png</td>\n",
       "      <td>incongruent</td>\n",
       "      <td>left</td>\n",
       "      <td>mood</td>\n",
       "      <td>lightning</td>\n",
       "    </tr>\n",
       "  </tbody>\n",
       "</table>\n",
       "</div>"
      ],
      "text/plain": [
       "                         left_image                       right_image  \\\n",
       "0   stimuli/practise/zebra_hvid.png   stimuli/practise/blæk_lilla.png   \n",
       "1          stimuli/practise/ost.png        stimuli/practise/chili.png   \n",
       "2      stimuli/practise/tornado.png          stimuli/practise/lyn.png   \n",
       "3  stimuli/practise/tornado_grå.png      stimuli/practise/lyn_gul.png   \n",
       "4  stimuli/practise/zebra_lilla.png    stimuli/practise/blæk_hvid.png   \n",
       "5      stimuli/practise/ost_rød.png    stimuli/practise/chili_gul.png   \n",
       "6      stimuli/practise/ost_gul.png    stimuli/practise/chili_rød.png   \n",
       "7        stimuli/practise/zebra.png         stimuli/practise/blæk.png   \n",
       "8      stimuli/practise/lyn_grå.png  stimuli/practise/tornado_gul.png   \n",
       "\n",
       "    trial_type correct_response category       task  \n",
       "0    congruent             left   animal      zebra  \n",
       "1      neutral             left     food     cheese  \n",
       "2      neutral            right     mood  lightning  \n",
       "3    congruent            right     mood  lightning  \n",
       "4  incongruent            right   animal    octopus  \n",
       "5  incongruent            right     food      chili  \n",
       "6    congruent             left     food     cheese  \n",
       "7      neutral            right   animal    octopus  \n",
       "8  incongruent             left     mood  lightning  "
      ]
     },
     "execution_count": 49,
     "metadata": {},
     "output_type": "execute_result"
    }
   ],
   "source": [
    "practisedf.head(10)"
   ]
  },
  {
   "cell_type": "code",
   "execution_count": 74,
   "metadata": {},
   "outputs": [
    {
     "data": {
      "text/plain": [
       "'stimuli/practise/zebra_hvid.png'"
      ]
     },
     "execution_count": 74,
     "metadata": {},
     "output_type": "execute_result"
    }
   ],
   "source": [
    "V= {'ID':'','gender':['female','male','other'],'age':''}\n",
    "practisedf.iloc[0, 0]"
   ]
  },
  {
   "cell_type": "code",
   "execution_count": 60,
   "metadata": {},
   "outputs": [],
   "source": [
    "def make_trial_list(trial_df):\n",
    "# Factorial design\n",
    "    trial_list = []\n",
    "    \n",
    "    for i in range(len(trial_df)):\n",
    "        data = trial_df.loc[i]\n",
    "        if data['trial_type'] == 'neutral':\n",
    "            TRIG_C = 1\n",
    "            TRIG_I = 11\n",
    "        if data['trial_type'] == 'congruent':\n",
    "            TRIG_C = 2\n",
    "            TRIG_I = 21\n",
    "        if data['trial_type'] == 'incongruent':\n",
    "            TRIG_C = 3\n",
    "            TRIG_I = 31\n",
    "        \n",
    "        # Add a dictionary for every trial\n",
    "        trial_list += [{\n",
    "            'ID': V['ID'],\n",
    "            'age': V['age'],\n",
    "            'gender': V['gender'],\n",
    "            'word':data['task'],\n",
    "            'category':data['category'],\n",
    "            'word_trigger':100,\n",
    "            'condition_trigger':TRIG_C,\n",
    "            'condition_trigger_t':'',\n",
    "            'right_img': data['right_image'],\n",
    "            'left_img': data['right_image'],\n",
    "            'img_trigger':TRIG_I,\n",
    "            'onset_word':'' ,# a place to note onsets\n",
    "            'offset_word': '',\n",
    "            'onset_img':'' ,# a place to note onsets\n",
    "            'offset_img': '',\n",
    "            'response': '',\n",
    "            'key_t':'',\n",
    "            'rt': '',\n",
    "            'correct_resp': data['correct_response'],\n",
    "            'accuracy': ''\n",
    "        }]\n",
    "    return trial_list\n"
   ]
  },
  {
   "cell_type": "code",
   "execution_count": 61,
   "metadata": {},
   "outputs": [],
   "source": [
    "triallist = make_trial_list(practisedf)"
   ]
  },
  {
   "cell_type": "code",
   "execution_count": 63,
   "metadata": {},
   "outputs": [
    {
     "data": {
      "text/plain": [
       "9"
      ]
     },
     "execution_count": 63,
     "metadata": {},
     "output_type": "execute_result"
    }
   ],
   "source": [
    "len(triallist)\n",
    "\n"
   ]
  },
  {
   "cell_type": "code",
   "execution_count": 68,
   "metadata": {},
   "outputs": [
    {
     "data": {
      "text/plain": [
       "{'ID': '',\n",
       " 'age': '',\n",
       " 'gender': ['female', 'male', 'other'],\n",
       " 'word': 'cheese',\n",
       " 'category': 'food',\n",
       " 'word_trigger': 100,\n",
       " 'condition_trigger': 1,\n",
       " 'pause_trigger_t': '',\n",
       " 'right_img': 'stimuli/practise/chili.png',\n",
       " 'left_img': 'stimuli/practise/chili.png',\n",
       " 'img_trigger': 11,\n",
       " 'onset_word': '',\n",
       " 'offset_word': '',\n",
       " 'onset_img': '',\n",
       " 'offset_img': '',\n",
       " 'response': '',\n",
       " 'key_t': '',\n",
       " 'rt': '',\n",
       " 'correct_resp': 'left',\n",
       " 'accuracy': ''}"
      ]
     },
     "execution_count": 68,
     "metadata": {},
     "output_type": "execute_result"
    }
   ],
   "source": [
    "triallist[1]"
   ]
  }
 ],
 "metadata": {
  "interpreter": {
   "hash": "bbfd61b9771b25adb48756b02878e03699aa9c48f369525daaaa61fe69c4b1b3"
  },
  "kernelspec": {
   "display_name": "Python 3.9.7 ('methods3')",
   "language": "python",
   "name": "python3"
  },
  "language_info": {
   "codemirror_mode": {
    "name": "ipython",
    "version": 3
   },
   "file_extension": ".py",
   "mimetype": "text/x-python",
   "name": "python",
   "nbconvert_exporter": "python",
   "pygments_lexer": "ipython3",
   "version": "3.9.7"
  },
  "orig_nbformat": 4
 },
 "nbformat": 4,
 "nbformat_minor": 2
}
