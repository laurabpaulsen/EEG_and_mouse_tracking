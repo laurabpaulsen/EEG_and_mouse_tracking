{
 "cells": [
  {
   "cell_type": "markdown",
   "id": "059acd4d",
   "metadata": {},
   "source": [
    "# EEG Preprocessing using independent component analysis (ICA)\n",
    "ICA can be used for artefact detection, since it identifies seperate components of the signal that have been combined during recording. That means that we can actually separate noise compoenents, such as eye blinks, from the rest of the signal, and thereby exclude them.\n",
    "\n",
    "**Notes:**\n",
    "* figure out how to exclude practise trials\n",
    "* add trigger for mouse-click\n",
    "* add trigger for maximal deaccelaration in incongruent trials\n",
    "* remove eog when doing ICA???\n",
    "* remove data after experiment finished?\n",
    "    * determine length of experiment from behavioural data\n",
    "* Do we filter before doing ICA - yes according to first link below! \n",
    "\n",
    "\n",
    "NICE LINKS:https://erpinfo.org/blog/2018/6/18/hints-for-using-ica-for-artifact-correction & https://labeling.ucsd.edu/tutorial/labels\n",
    "\n",
    "## Loading modules & data"
   ]
  },
  {
   "cell_type": "code",
   "execution_count": null,
   "id": "e780bc5a-03de-4c82-8102-2cdd74b342ce",
   "metadata": {
    "execution": {
     "iopub.execute_input": "2022-03-16T15:35:44.776774Z",
     "iopub.status.busy": "2022-03-16T15:35:44.776264Z",
     "iopub.status.idle": "2022-03-16T15:35:44.783263Z",
     "shell.execute_reply": "2022-03-16T15:35:44.782141Z",
     "shell.execute_reply.started": "2022-03-16T15:35:44.776722Z"
    },
    "tags": []
   },
   "outputs": [],
   "source": [
    "# importing modules\n",
    "import numpy as np\n",
    "import mne\n",
    "#! pip install mne"
   ]
  },
  {
   "cell_type": "code",
   "execution_count": null,
   "id": "81bad5e7-3031-4167-af8d-1a8bbacae9ab",
   "metadata": {
    "execution": {
     "iopub.execute_input": "2022-03-16T15:35:45.390656Z",
     "iopub.status.busy": "2022-03-16T15:35:45.390200Z",
     "iopub.status.idle": "2022-03-16T15:35:45.767015Z",
     "shell.execute_reply": "2022-03-16T15:35:45.765966Z",
     "shell.execute_reply.started": "2022-03-16T15:35:45.390609Z"
    },
    "tags": []
   },
   "outputs": [],
   "source": [
    "raw = mne.io.read_raw_brainvision('Stroop_mouse_EEG_data/EEG/Group7_own.vhdr', eog=('EOG1', 'EOG2'), preload = True)"
   ]
  },
  {
   "cell_type": "code",
   "execution_count": null,
   "id": "9573bb6a",
   "metadata": {},
   "outputs": [],
   "source": [
    "# Removing EEG data which was recorded when the experiment had ended\n",
    "raw.crop(tmin=0.0, tmax=420, include_tmax=True)"
   ]
  },
  {
   "cell_type": "markdown",
   "id": "83339bff-420a-4dd2-ab27-5b0574b36f0e",
   "metadata": {},
   "source": [
    "## Specifing the channel locations using the montage-related functions"
   ]
  },
  {
   "cell_type": "code",
   "execution_count": null,
   "id": "b6170ed3-4e20-4478-a43a-b2c992b78678",
   "metadata": {
    "execution": {
     "iopub.execute_input": "2022-03-16T15:35:46.107752Z",
     "iopub.status.busy": "2022-03-16T15:35:46.107189Z",
     "iopub.status.idle": "2022-03-16T15:35:46.128759Z",
     "shell.execute_reply": "2022-03-16T15:35:46.128178Z",
     "shell.execute_reply.started": "2022-03-16T15:35:46.107702Z"
    },
    "tags": []
   },
   "outputs": [],
   "source": [
    "montage = mne.channels.make_standard_montage('standard_1020') \n",
    "raw.set_montage(montage, verbose=False)"
   ]
  },
  {
   "cell_type": "markdown",
   "id": "9fd3acf1-232e-4dee-be42-69cdbfd327cc",
   "metadata": {},
   "source": [
    "## Redefine the reference to a common average"
   ]
  },
  {
   "cell_type": "code",
   "execution_count": null,
   "id": "1901b00a-47ec-4451-a8e0-2bea8409058a",
   "metadata": {
    "execution": {
     "iopub.execute_input": "2022-03-16T15:35:47.278319Z",
     "iopub.status.busy": "2022-03-16T15:35:47.277785Z",
     "iopub.status.idle": "2022-03-16T15:35:47.395225Z",
     "shell.execute_reply": "2022-03-16T15:35:47.394403Z",
     "shell.execute_reply.started": "2022-03-16T15:35:47.278267Z"
    },
    "tags": []
   },
   "outputs": [],
   "source": [
    "raw.set_eeg_reference('average', projection=False, verbose=False)"
   ]
  },
  {
   "cell_type": "markdown",
   "id": "fbba720b",
   "metadata": {},
   "source": [
    "## Preparing data for ICA\n",
    "High-pass filtering the data at 0.1 Hz and subsequently low-pass filtering at 40 Hz"
   ]
  },
  {
   "cell_type": "code",
   "execution_count": null,
   "id": "e530da50",
   "metadata": {},
   "outputs": [],
   "source": [
    "raw = raw.filter(0.1, None)\n",
    "raw = raw.filter(None, 40)"
   ]
  },
  {
   "cell_type": "markdown",
   "id": "438e0732",
   "metadata": {},
   "source": [
    "## Setting up and fitting the ICA\n",
    "Fitting the ICA with 800 iterations with a random seed at 97. n_components=0.95 ensures that the number of components selected explain at least 95% of the variance in the data"
   ]
  },
  {
   "cell_type": "code",
   "execution_count": null,
   "id": "d75b4415",
   "metadata": {},
   "outputs": [],
   "source": [
    "ica = mne.preprocessing.ICA(n_components=0.95, random_state=97, max_iter=800)\n",
    "ica.fit(raw)"
   ]
  },
  {
   "cell_type": "markdown",
   "id": "d0970268",
   "metadata": {},
   "source": [
    "## Plotting of ICA\n",
    "### Plotting of components"
   ]
  },
  {
   "cell_type": "code",
   "execution_count": null,
   "id": "b4a549bc",
   "metadata": {},
   "outputs": [],
   "source": [
    "ica.plot_components();"
   ]
  },
  {
   "cell_type": "markdown",
   "id": "8d69b0f2",
   "metadata": {},
   "source": [
    "### Plotting of the time series of the ICA"
   ]
  },
  {
   "cell_type": "code",
   "execution_count": null,
   "id": "73ec7979",
   "metadata": {},
   "outputs": [],
   "source": [
    "ica.plot_sources(raw, show_scrollbars=False);"
   ]
  },
  {
   "cell_type": "markdown",
   "id": "1bc1caf3",
   "metadata": {},
   "source": [
    "## Exclusion of components\n",
    "From visual inspection of the topographic maps and the time series plots of the components, we can see that the ____  component seems to capture noise especially from eyeblinks. Consequently, we can remove it and thereby extract these artefacts from the data.a\n"
   ]
  },
  {
   "cell_type": "code",
   "execution_count": null,
   "id": "e7f32ea6",
   "metadata": {},
   "outputs": [],
   "source": [
    "# the first component is excluded based on visual inspection\n",
    "ica.exclude = [1]\n",
    "ica.plot_properties(raw, picks=ica.exclude);"
   ]
  },
  {
   "cell_type": "markdown",
   "id": "daccda26",
   "metadata": {},
   "source": [
    "## Applying ICA to the data"
   ]
  },
  {
   "cell_type": "code",
   "execution_count": null,
   "id": "55147cdf",
   "metadata": {},
   "outputs": [],
   "source": [
    "ica.apply(raw)"
   ]
  },
  {
   "cell_type": "code",
   "execution_count": null,
   "id": "ab8289d3",
   "metadata": {},
   "outputs": [],
   "source": [
    "# plotting the data after filtering and ica\n",
    "raw.plot(n_channels = 33, scalings = {'eeg': 100e-6});"
   ]
  },
  {
   "cell_type": "markdown",
   "id": "5707dfb3",
   "metadata": {},
   "source": [
    "### Epoching the data"
   ]
  },
  {
   "cell_type": "code",
   "execution_count": null,
   "id": "d18cc7a8",
   "metadata": {},
   "outputs": [],
   "source": [
    "events, _  = mne.events_from_annotations(raw)"
   ]
  },
  {
   "cell_type": "code",
   "execution_count": null,
   "id": "57d48a55-397a-4d6d-98f9-a83bca25017c",
   "metadata": {
    "execution": {
     "iopub.execute_input": "2022-03-16T15:35:56.437840Z",
     "iopub.status.busy": "2022-03-16T15:35:56.437327Z",
     "iopub.status.idle": "2022-03-16T15:35:56.447896Z",
     "shell.execute_reply": "2022-03-16T15:35:56.446880Z",
     "shell.execute_reply.started": "2022-03-16T15:35:56.437790Z"
    },
    "tags": []
   },
   "outputs": [],
   "source": [
    "# Determining all the unique triggers\n",
    "np.unique(events[:,2])"
   ]
  },
  {
   "cell_type": "code",
   "execution_count": null,
   "id": "17154f7c-9b98-4214-af6b-3cdaf5180dd4",
   "metadata": {
    "execution": {
     "iopub.execute_input": "2022-03-16T15:35:57.384835Z",
     "iopub.status.busy": "2022-03-16T15:35:57.384317Z",
     "iopub.status.idle": "2022-03-16T15:35:57.395250Z",
     "shell.execute_reply": "2022-03-16T15:35:57.394246Z",
     "shell.execute_reply.started": "2022-03-16T15:35:57.384785Z"
    },
    "tags": []
   },
   "outputs": [],
   "source": [
    "# Creating a dictionary with event ids\n",
    "event_id = {'Image/cNeu': 11, # Image trigger neutral condition \n",
    "            'Image/cCon': 21, # Image trigger congruent condition  \n",
    "            'Image/cInc': 31, # Image trigger incongruent condition \n",
    "            'Word/cNeu': 12, # Word trigger neutral condition\n",
    "            'Word/cCon': 22, # Word trigger congruent condition\n",
    "            'Word/cInc': 32 # Word trigger incongruent condition\n",
    "} "
   ]
  },
  {
   "cell_type": "code",
   "execution_count": null,
   "id": "0f7a4d15-ce4e-4597-b859-3f0cac574b03",
   "metadata": {
    "execution": {
     "iopub.execute_input": "2022-03-16T15:35:59.858505Z",
     "iopub.status.busy": "2022-03-16T15:35:59.857621Z",
     "iopub.status.idle": "2022-03-16T15:36:00.101925Z",
     "shell.execute_reply": "2022-03-16T15:36:00.101051Z",
     "shell.execute_reply.started": "2022-03-16T15:35:59.858448Z"
    },
    "tags": []
   },
   "outputs": [],
   "source": [
    "mne.viz.plot_events(events, first_samp=raw.first_samp, event_id=event_id);"
   ]
  },
  {
   "cell_type": "markdown",
   "id": "38ac9820-bc6e-463b-b22b-24cd9fd094dd",
   "metadata": {},
   "source": [
    "#### Creating Epochs\n",
    "**Note:** Determine sensible time window"
   ]
  },
  {
   "cell_type": "code",
   "execution_count": null,
   "id": "3056b88f",
   "metadata": {},
   "outputs": [],
   "source": [
    "# establishing time window\n",
    "tmin, tmax = -0.2, 0.8"
   ]
  },
  {
   "cell_type": "code",
   "execution_count": null,
   "id": "be1f6006-2a6e-47db-aa94-f669db5c18ed",
   "metadata": {
    "execution": {
     "iopub.execute_input": "2022-03-16T15:36:09.363540Z",
     "iopub.status.busy": "2022-03-16T15:36:09.363089Z",
     "iopub.status.idle": "2022-03-16T15:36:09.369870Z",
     "shell.execute_reply": "2022-03-16T15:36:09.368720Z",
     "shell.execute_reply.started": "2022-03-16T15:36:09.363494Z"
    },
    "tags": []
   },
   "outputs": [],
   "source": [
    "# rejecting all epochs with values exeeding 150 micro volts - cannot be brain data\n",
    "reject = {'eeg': 150e-6}"
   ]
  },
  {
   "cell_type": "code",
   "execution_count": null,
   "id": "44a96a5f",
   "metadata": {},
   "outputs": [],
   "source": [
    "# choosing only EEG channels for epoching\n",
    "picks = mne.pick_types(raw.info, eeg=True, eog=False)"
   ]
  },
  {
   "cell_type": "code",
   "execution_count": null,
   "id": "4fcfe28b-f17e-4562-9cf8-bdbc0aff67b4",
   "metadata": {
    "execution": {
     "iopub.execute_input": "2022-03-16T15:36:11.525673Z",
     "iopub.status.busy": "2022-03-16T15:36:11.525214Z",
     "iopub.status.idle": "2022-03-16T15:36:11.658017Z",
     "shell.execute_reply": "2022-03-16T15:36:11.657394Z",
     "shell.execute_reply.started": "2022-03-16T15:36:11.525625Z"
    },
    "tags": []
   },
   "outputs": [],
   "source": [
    "# creating the epochs using the variables created in the cell above, and timelocking to the events\n",
    "# baseline time interval spans from beginning of the data (-0.2 s) to 0 s (stimulus onset)\n",
    "# we use the reject variable we created earlier in order to remove artefacts\n",
    "epochs = mne.Epochs(raw, events, event_id, tmin, tmax, picks=picks,\n",
    "                    baseline=(None, 0), reject=reject, preload=True, verbose = True)"
   ]
  },
  {
   "cell_type": "code",
   "execution_count": null,
   "id": "21162d41",
   "metadata": {},
   "outputs": [],
   "source": [
    "# Downsampling to 250 Hz\n",
    "epochs_resampled = epochs.resample(250)"
   ]
  },
  {
   "cell_type": "markdown",
   "id": "000232a5-69c5-4085-bd07-e6d4128b499b",
   "metadata": {},
   "source": [
    "### Plot of consistency of participant’s brain responses as measured at Oz to all the words and to all the images"
   ]
  },
  {
   "cell_type": "code",
   "execution_count": null,
   "id": "a6fb96d7-1b34-4338-a38c-a6ab98bb40b3",
   "metadata": {
    "execution": {
     "iopub.execute_input": "2022-03-16T15:42:35.853466Z",
     "iopub.status.busy": "2022-03-16T15:42:35.852799Z",
     "iopub.status.idle": "2022-03-16T15:42:35.867739Z",
     "shell.execute_reply": "2022-03-16T15:42:35.866994Z",
     "shell.execute_reply.started": "2022-03-16T15:42:35.853409Z"
    },
    "tags": []
   },
   "outputs": [],
   "source": [
    "img_epochs = epochs_resampled['Image']\n",
    "word_epochs = epochs_resampled['Word']"
   ]
  },
  {
   "cell_type": "code",
   "execution_count": null,
   "id": "22a0e4c7-1f63-49e8-8c15-415285d283bf",
   "metadata": {
    "execution": {
     "iopub.execute_input": "2022-03-16T15:53:23.751162Z",
     "iopub.status.busy": "2022-03-16T15:53:23.750623Z",
     "iopub.status.idle": "2022-03-16T15:53:24.648547Z",
     "shell.execute_reply": "2022-03-16T15:53:24.647498Z",
     "shell.execute_reply.started": "2022-03-16T15:53:23.751108Z"
    },
    "tags": []
   },
   "outputs": [],
   "source": [
    "# plotting one channel as an example for each modality\n",
    "# now the '/' used in the event IDs comes in handy! To get all epochs with image stimuli, we can index 'image' across the left/right dimension \n",
    "img_epochs.plot_image(picks=['Oz']);\n",
    "word_epochs.plot_image(picks=['Oz']);"
   ]
  },
  {
   "cell_type": "markdown",
   "id": "145789cf-83be-4bd8-b208-ecb6b01296d8",
   "metadata": {},
   "source": [
    "### Creating evoked variables"
   ]
  },
  {
   "cell_type": "code",
   "execution_count": null,
   "id": "9d1e6269",
   "metadata": {},
   "outputs": [],
   "source": [
    "image_evoked = img_epochs.average()\n",
    "word_evoked = word_epochs.average()"
   ]
  },
  {
   "cell_type": "code",
   "execution_count": null,
   "id": "947e84fd-fde0-4350-946b-49453b0af8da",
   "metadata": {
    "execution": {
     "iopub.execute_input": "2022-03-16T16:11:24.189622Z",
     "iopub.status.busy": "2022-03-16T16:11:24.189116Z",
     "iopub.status.idle": "2022-03-16T16:11:24.343583Z",
     "shell.execute_reply": "2022-03-16T16:11:24.343047Z",
     "shell.execute_reply.started": "2022-03-16T16:11:24.189571Z"
    },
    "tags": []
   },
   "outputs": [],
   "source": [
    "mne.viz.plot_compare_evokeds({'image': image_evoked, 'word': word_evoked},\n",
    "                             legend='upper left', show_sensors='upper right')"
   ]
  },
  {
   "cell_type": "markdown",
   "id": "543a4a04-ad0f-4547-b013-9a4af582af70",
   "metadata": {},
   "source": [
    "### Eliciting response times using the triggers from the button-presses: Copy the code from the rt_code_snippet.py in the scripts-folder to your notebook and try to run it (it’s a bit dense, I know). Can you get a sensible output? If not, we’ll play around with this at a later stage."
   ]
  },
  {
   "cell_type": "code",
   "execution_count": null,
   "id": "65170e10",
   "metadata": {
    "execution": {
     "iopub.execute_input": "2022-03-16T16:42:52.748382Z",
     "iopub.status.busy": "2022-03-16T16:42:52.747854Z",
     "iopub.status.idle": "2022-03-16T16:42:53.601785Z",
     "shell.execute_reply": "2022-03-16T16:42:53.600979Z",
     "shell.execute_reply.started": "2022-03-16T16:42:52.748330Z"
    },
    "tags": []
   },
   "outputs": [],
   "source": [
    "image_evoked.plot_joint(picks='eeg');"
   ]
  },
  {
   "cell_type": "code",
   "execution_count": null,
   "id": "9d2ea4eb",
   "metadata": {
    "execution": {
     "iopub.execute_input": "2022-03-16T16:47:54.685351Z",
     "iopub.status.busy": "2022-03-16T16:47:54.684815Z",
     "iopub.status.idle": "2022-03-16T16:47:55.498739Z",
     "shell.execute_reply": "2022-03-16T16:47:55.498150Z",
     "shell.execute_reply.started": "2022-03-16T16:47:54.685299Z"
    },
    "tags": []
   },
   "outputs": [],
   "source": [
    "word_evoked.plot_joint(picks='eeg');"
   ]
  },
  {
   "cell_type": "markdown",
   "id": "3e450aa3",
   "metadata": {},
   "source": [
    "As a final note, we can create contrasts (aka. difference waves) on the fly by using the combine_evoked-function (in combination with the weights=[1, -1]-parameter).\n",
    "\n",
    "This also gives us a chance to try out one final plotting function, namely the plot_topo-function. This function plots the difference waves (or whichever traces we choose to plot) for each channel in their positions on the scalp."
   ]
  },
  {
   "cell_type": "code",
   "execution_count": null,
   "id": "8e395d00",
   "metadata": {
    "execution": {
     "iopub.execute_input": "2022-02-26T23:25:12.901683Z",
     "iopub.status.busy": "2022-02-26T23:25:12.900999Z",
     "iopub.status.idle": "2022-02-26T23:25:13.204494Z",
     "shell.execute_reply": "2022-02-26T23:25:13.203848Z",
     "shell.execute_reply.started": "2022-02-26T23:25:12.901632Z"
    },
    "tags": []
   },
   "outputs": [],
   "source": [
    "evoked_diff = mne.combine_evoked([word_evoked, image_evoked], weights=[1, -1])\n",
    "evoked_diff.pick_types(eeg=True).plot_topo(color='r', legend=False)"
   ]
  }
 ],
 "metadata": {
  "interpreter": {
   "hash": "ad5c30fea5466ca3b04feb7e0a99857a92ee68be4c3f4107148abce45ea17a05"
  },
  "kernelspec": {
   "display_name": "Python 3 ",
   "language": "python",
   "name": "python3"
  },
  "language_info": {
   "codemirror_mode": {
    "name": "ipython",
    "version": 3
   },
   "file_extension": ".py",
   "mimetype": "text/x-python",
   "name": "python",
   "nbconvert_exporter": "python",
   "pygments_lexer": "ipython3",
   "version": "3.9.7"
  },
  "toc": {
   "base_numbering": 1,
   "nav_menu": {},
   "number_sections": true,
   "sideBar": true,
   "skip_h1_title": false,
   "title_cell": "Table of Contents",
   "title_sidebar": "Contents",
   "toc_cell": false,
   "toc_position": {},
   "toc_section_display": true,
   "toc_window_display": false
  }
 },
 "nbformat": 4,
 "nbformat_minor": 5
}
