{
 "cells": [
  {
   "cell_type": "markdown",
   "id": "059acd4d",
   "metadata": {},
   "source": [
    "# EEG Preprocessing using independent component analysis (ICA)\n",
    "The code in this notebook uses ICA to remove artifacts, and epochs the EEG data both to the time at which the stimuli was presented and the time at which the response was given. \n",
    "\n",
    "ICA can be used for artefact detection, since it identifies seperate components of the signal that have been combined during recording. That means that we can actually separate noise compoenents, such as eye blinks, from the rest of the signal, and thereby exclude them.\n",
    "\n",
    "\n",
    "**Links:** https://arnauddelorme.com/ica_for_dummies/\n"
   ]
  },
  {
   "cell_type": "markdown",
   "id": "54cc08db",
   "metadata": {},
   "source": [
    "## Loading modules & data"
   ]
  },
  {
   "cell_type": "code",
   "execution_count": null,
   "id": "e780bc5a-03de-4c82-8102-2cdd74b342ce",
   "metadata": {
    "execution": {
     "iopub.execute_input": "2022-03-16T15:35:44.776774Z",
     "iopub.status.busy": "2022-03-16T15:35:44.776264Z",
     "iopub.status.idle": "2022-03-16T15:35:44.783263Z",
     "shell.execute_reply": "2022-03-16T15:35:44.782141Z",
     "shell.execute_reply.started": "2022-03-16T15:35:44.776722Z"
    },
    "tags": []
   },
   "outputs": [],
   "source": [
    "# importing modules\n",
    "import numpy as np\n",
    "import mne\n",
    "import pandas as pd\n",
    "import helper_functions as hf\n",
    "#! pip install mne\n",
    "#! pip install scikit-learn"
   ]
  },
  {
   "cell_type": "code",
   "execution_count": null,
   "id": "81bad5e7-3031-4167-af8d-1a8bbacae9ab",
   "metadata": {
    "execution": {
     "iopub.execute_input": "2022-03-16T15:35:45.390656Z",
     "iopub.status.busy": "2022-03-16T15:35:45.390200Z",
     "iopub.status.idle": "2022-03-16T15:35:45.767015Z",
     "shell.execute_reply": "2022-03-16T15:35:45.765966Z",
     "shell.execute_reply.started": "2022-03-16T15:35:45.390609Z"
    },
    "tags": []
   },
   "outputs": [],
   "source": [
    "raw = mne.io.read_raw_brainvision('Stroop_mouse_EEG_data/EEG/Group7_own.vhdr', eog=('EOG1', 'EOG2'), preload = True)"
   ]
  },
  {
   "cell_type": "markdown",
   "id": "3af6253b",
   "metadata": {},
   "source": [
    "### Removing EEG data which was recorded before and after the experiment"
   ]
  },
  {
   "cell_type": "code",
   "execution_count": null,
   "id": "9573bb6a",
   "metadata": {},
   "outputs": [],
   "source": [
    "raw.crop(tmin=0.0, tmax=410, include_tmax=True)"
   ]
  },
  {
   "cell_type": "markdown",
   "id": "83339bff-420a-4dd2-ab27-5b0574b36f0e",
   "metadata": {},
   "source": [
    "### Specifing the channel locations using the montage-related functions"
   ]
  },
  {
   "cell_type": "code",
   "execution_count": null,
   "id": "b6170ed3-4e20-4478-a43a-b2c992b78678",
   "metadata": {
    "execution": {
     "iopub.execute_input": "2022-03-16T15:35:46.107752Z",
     "iopub.status.busy": "2022-03-16T15:35:46.107189Z",
     "iopub.status.idle": "2022-03-16T15:35:46.128759Z",
     "shell.execute_reply": "2022-03-16T15:35:46.128178Z",
     "shell.execute_reply.started": "2022-03-16T15:35:46.107702Z"
    },
    "tags": []
   },
   "outputs": [],
   "source": [
    "montage = mne.channels.make_standard_montage('standard_1020') \n",
    "raw.set_montage(montage, verbose=False)"
   ]
  },
  {
   "cell_type": "markdown",
   "id": "9fd3acf1-232e-4dee-be42-69cdbfd327cc",
   "metadata": {},
   "source": [
    "## Redefine the reference to a common average"
   ]
  },
  {
   "cell_type": "code",
   "execution_count": null,
   "id": "1901b00a-47ec-4451-a8e0-2bea8409058a",
   "metadata": {
    "execution": {
     "iopub.execute_input": "2022-03-16T15:35:47.278319Z",
     "iopub.status.busy": "2022-03-16T15:35:47.277785Z",
     "iopub.status.idle": "2022-03-16T15:35:47.395225Z",
     "shell.execute_reply": "2022-03-16T15:35:47.394403Z",
     "shell.execute_reply.started": "2022-03-16T15:35:47.278267Z"
    },
    "tags": []
   },
   "outputs": [],
   "source": [
    "raw.set_eeg_reference('average', projection=False, verbose=False)"
   ]
  },
  {
   "cell_type": "markdown",
   "id": "fbba720b",
   "metadata": {},
   "source": [
    "## Preparing data for ICA\n",
    "High-pass filtering the data at 0.1 Hz and subsequently low-pass filtering at 40 Hz"
   ]
  },
  {
   "cell_type": "code",
   "execution_count": null,
   "id": "670e3b4d",
   "metadata": {},
   "outputs": [],
   "source": [
    "# removing two noisy channels\n",
    "raw.info['bads'] = ['Fp1', 'Fp2']"
   ]
  },
  {
   "cell_type": "code",
   "execution_count": null,
   "id": "03e177c5",
   "metadata": {},
   "outputs": [],
   "source": [
    "filt_raw = raw.copy().filter(l_freq=1., h_freq=None)"
   ]
  },
  {
   "cell_type": "markdown",
   "id": "438e0732",
   "metadata": {},
   "source": [
    "## Setting up and fitting the ICA\n",
    "Fitting the ICA with 800 iterations with a random seed at 97. n_components=0.95 ensures that the number of components selected explain at least 95% of the variance in the data"
   ]
  },
  {
   "cell_type": "code",
   "execution_count": null,
   "id": "d75b4415",
   "metadata": {},
   "outputs": [],
   "source": [
    "ica = mne.preprocessing.ICA(n_components=0.95, random_state=97, max_iter=800)\n",
    "ica.fit(filt_raw)"
   ]
  },
  {
   "cell_type": "markdown",
   "id": "d0970268",
   "metadata": {},
   "source": [
    "## Plotting of ICA\n",
    "### Plotting of components"
   ]
  },
  {
   "cell_type": "code",
   "execution_count": null,
   "id": "b4a549bc",
   "metadata": {},
   "outputs": [],
   "source": [
    "ica.plot_components();"
   ]
  },
  {
   "cell_type": "markdown",
   "id": "8d69b0f2",
   "metadata": {},
   "source": [
    "### Plotting of the time series of the ICA components that are assumed to be noise"
   ]
  },
  {
   "cell_type": "code",
   "execution_count": null,
   "id": "73ec7979",
   "metadata": {},
   "outputs": [],
   "source": [
    "ica.plot_sources(raw, picks = [0,1], show_scrollbars=False, start = 40, stop = 45);\n"
   ]
  },
  {
   "cell_type": "markdown",
   "id": "1bc1caf3",
   "metadata": {},
   "source": [
    "## Exclusion of components\n",
    "The blinks can be seen very clearly in ICA001, especially in the time series plot. Therefore this component is removed. \n",
    "Furthermore, ICA000 seems to capture the effects of eye-movement.  In the time series plot, you can see evidence of saccades by the discontinuities surrounded by relative stationarity. This is reinforced by the scalp topography plot, as they indicate that the source origin is near the eyes.\n"
   ]
  },
  {
   "cell_type": "code",
   "execution_count": null,
   "id": "e7f32ea6",
   "metadata": {},
   "outputs": [],
   "source": [
    "ica.exclude = [0,1]\n",
    "ica.plot_properties(raw, picks=ica.exclude, dB = False, verbose = False)"
   ]
  },
  {
   "cell_type": "markdown",
   "id": "daccda26",
   "metadata": {},
   "source": [
    "## Applying ICA to the data"
   ]
  },
  {
   "cell_type": "code",
   "execution_count": null,
   "id": "55147cdf",
   "metadata": {},
   "outputs": [],
   "source": [
    "ica.apply(raw)\n",
    "\n",
    "# High and low pass filtering after applying the ICA\n",
    "raw = raw.filter(0.1, None)\n",
    "raw = raw.filter(None, 40)"
   ]
  },
  {
   "cell_type": "code",
   "execution_count": null,
   "id": "ab8289d3",
   "metadata": {},
   "outputs": [],
   "source": [
    "# plotting the data after ICA\n",
    "raw.plot(n_channels = 33, scalings = {'eeg': 50e-6}, duration = 10, start = 90);"
   ]
  },
  {
   "cell_type": "markdown",
   "id": "5707dfb3",
   "metadata": {},
   "source": [
    "### Epoching the data\n",
    "Using the `events_from_annotations` function an array of the events is extracted. The first column is the time stamp in samples, and the third column contains the event id."
   ]
  },
  {
   "cell_type": "code",
   "execution_count": null,
   "id": "d18cc7a8",
   "metadata": {},
   "outputs": [],
   "source": [
    "events, _  = mne.events_from_annotations(raw)"
   ]
  },
  {
   "cell_type": "markdown",
   "id": "0d8542d2",
   "metadata": {},
   "source": [
    "#### Deleting triggers from practise trials and incorrect trials\n",
    "\n",
    "Incorrect trials: 22, 48, 86, 145, 153"
   ]
  },
  {
   "cell_type": "code",
   "execution_count": null,
   "id": "fb38b2e2",
   "metadata": {},
   "outputs": [],
   "source": [
    "incorrect_trials = [22, 48, 86, 145, 153] \n",
    "incorrectinds = [(i*2+17) for i in incorrect_trials]\n",
    "incorrectinds.extend([i +1 for i in incorrectinds])\n",
    "practisetrials = [1, 2, 3, 4, 5, 6, 7, 8, 9, 10, 11, 12, 13, 14, 15, 16, 17, 18]\n",
    "remove =  practisetrials + incorrectinds"
   ]
  },
  {
   "cell_type": "code",
   "execution_count": null,
   "id": "353989a1",
   "metadata": {},
   "outputs": [],
   "source": [
    "events = np.delete(events, remove, 0)"
   ]
  },
  {
   "cell_type": "markdown",
   "id": "4e146a02",
   "metadata": {},
   "source": [
    "#### Adding events\n",
    "This is done by importing some data extracted from the mousetracking data in R using the `mousetrap` package. \n",
    "\n",
    "\n",
    "TODO:\n",
    "* **Find out which variable** does not seem to be the right one at least"
   ]
  },
  {
   "cell_type": "code",
   "execution_count": null,
   "id": "9c3d62fd",
   "metadata": {},
   "outputs": [],
   "source": [
    "# Loading in csv with info\n",
    "mouse_df_inc = pd.read_csv('Stroop_mouse_EEG_data/additional_triggers_incongruent.csv')\n",
    "mouse_df_neu = pd.read_csv('Stroop_mouse_EEG_data/additional_triggers_neutral.csv')\n",
    "mouse_df_con = pd.read_csv('Stroop_mouse_EEG_data/additional_triggers_congruent.csv')"
   ]
  },
  {
   "cell_type": "markdown",
   "id": "342f6386",
   "metadata": {},
   "source": [
    "##### Aligning timing from behavioural data with EEG\n"
   ]
  },
  {
   "cell_type": "code",
   "execution_count": null,
   "id": "6957471a",
   "metadata": {},
   "outputs": [],
   "source": [
    "# Determining timing for display of first image in EEG (measured in samples)\n",
    "sample_time_first_image = events[1][0]          # one since first trigger is when the recording started\n",
    "\n",
    "# Sampling rate\n",
    "sampling_rate_eeg = 1000/1                      # 1000 Hz\n",
    "\n",
    "# Timing for display of first images in mousetracking (measured in seconds, first trial is in the incongruent dataframe)\n",
    "mouse_first_img_display = mouse_df_inc.iloc[0,3]\n",
    "\n",
    "# Adding trigger for max MAD in incongruent condition\n",
    "events = hf.add_trigger(mouse_df_inc, \n",
    "                        trigger = 33,\n",
    "                        array = events, \n",
    "                        first_img_display = mouse_first_img_display, \n",
    "                        sr_eeg = sampling_rate_eeg, \n",
    "                        st_first_image = sample_time_first_image, \n",
    "                        columnname = 'MAD_time')"
   ]
  },
  {
   "cell_type": "markdown",
   "id": "48666157",
   "metadata": {},
   "source": [
    "Now an array is created with these additional triggers"
   ]
  },
  {
   "cell_type": "code",
   "execution_count": null,
   "id": "57d48a55-397a-4d6d-98f9-a83bca25017c",
   "metadata": {
    "execution": {
     "iopub.execute_input": "2022-03-16T15:35:56.437840Z",
     "iopub.status.busy": "2022-03-16T15:35:56.437327Z",
     "iopub.status.idle": "2022-03-16T15:35:56.447896Z",
     "shell.execute_reply": "2022-03-16T15:35:56.446880Z",
     "shell.execute_reply.started": "2022-03-16T15:35:56.437790Z"
    },
    "tags": []
   },
   "outputs": [],
   "source": [
    "# Determining all the unique triggers\n",
    "np.unique(events[:,2])"
   ]
  },
  {
   "cell_type": "code",
   "execution_count": null,
   "id": "17154f7c-9b98-4214-af6b-3cdaf5180dd4",
   "metadata": {
    "execution": {
     "iopub.execute_input": "2022-03-16T15:35:57.384835Z",
     "iopub.status.busy": "2022-03-16T15:35:57.384317Z",
     "iopub.status.idle": "2022-03-16T15:35:57.395250Z",
     "shell.execute_reply": "2022-03-16T15:35:57.394246Z",
     "shell.execute_reply.started": "2022-03-16T15:35:57.384785Z"
    },
    "tags": []
   },
   "outputs": [],
   "source": [
    "# Creating a dictionary with event ids\n",
    "event_id = {'Image/cNeu': 11, # Image trigger neutral condition \n",
    "            'Image/cCon': 21, # Image trigger congruent condition  \n",
    "            'Image/cInc': 31, # Image trigger incongruent condition \n",
    "            'Word/cNeu': 12, # Word trigger neutral condition\n",
    "            'Word/cCon': 22, # Word trigger congruent condition\n",
    "            'Word/cInc': 32, # Word trigger incongruent condition\n",
    "            'Max_MAD/cInc': 33 # Word trigger incongruent conditionn\n",
    "} "
   ]
  },
  {
   "cell_type": "code",
   "execution_count": null,
   "id": "0f7a4d15-ce4e-4597-b859-3f0cac574b03",
   "metadata": {
    "execution": {
     "iopub.execute_input": "2022-03-16T15:35:59.858505Z",
     "iopub.status.busy": "2022-03-16T15:35:59.857621Z",
     "iopub.status.idle": "2022-03-16T15:36:00.101925Z",
     "shell.execute_reply": "2022-03-16T15:36:00.101051Z",
     "shell.execute_reply.started": "2022-03-16T15:35:59.858448Z"
    },
    "tags": []
   },
   "outputs": [],
   "source": [
    "mne.viz.plot_events(events, first_samp=raw.first_samp, event_id=event_id);"
   ]
  },
  {
   "cell_type": "markdown",
   "id": "38ac9820-bc6e-463b-b22b-24cd9fd094dd",
   "metadata": {},
   "source": [
    "**Note:** Determine sensible time window"
   ]
  },
  {
   "cell_type": "code",
   "execution_count": null,
   "id": "3056b88f",
   "metadata": {},
   "outputs": [],
   "source": [
    "# establishing time window\n",
    "tmin, tmax = -0.2, 0.5"
   ]
  },
  {
   "cell_type": "code",
   "execution_count": null,
   "id": "be1f6006-2a6e-47db-aa94-f669db5c18ed",
   "metadata": {
    "execution": {
     "iopub.execute_input": "2022-03-16T15:36:09.363540Z",
     "iopub.status.busy": "2022-03-16T15:36:09.363089Z",
     "iopub.status.idle": "2022-03-16T15:36:09.369870Z",
     "shell.execute_reply": "2022-03-16T15:36:09.368720Z",
     "shell.execute_reply.started": "2022-03-16T15:36:09.363494Z"
    },
    "tags": []
   },
   "outputs": [],
   "source": [
    "# rejecting all epochs with values exeeding 150 micro volts - cannot be brain data\n",
    "reject = {'eeg': 150e-6}"
   ]
  },
  {
   "cell_type": "code",
   "execution_count": null,
   "id": "44a96a5f",
   "metadata": {},
   "outputs": [],
   "source": [
    "# choosing only EEG channels for epoching\n",
    "picks = mne.pick_types(raw.info, eeg=True, eog=False)"
   ]
  },
  {
   "cell_type": "code",
   "execution_count": null,
   "id": "4fcfe28b-f17e-4562-9cf8-bdbc0aff67b4",
   "metadata": {
    "execution": {
     "iopub.execute_input": "2022-03-16T15:36:11.525673Z",
     "iopub.status.busy": "2022-03-16T15:36:11.525214Z",
     "iopub.status.idle": "2022-03-16T15:36:11.658017Z",
     "shell.execute_reply": "2022-03-16T15:36:11.657394Z",
     "shell.execute_reply.started": "2022-03-16T15:36:11.525625Z"
    },
    "tags": []
   },
   "outputs": [],
   "source": [
    "# creating the epochs using the variables created in the cell above, and timelocking to the events\n",
    "# baseline time interval spans from beginning of the data (-0.2 s) to 0 s (stimulus onset)\n",
    "# we use the reject variable we created earlier in order to remove artefacts\n",
    "epochs = mne.Epochs(raw, events, event_id, tmin, tmax, picks=picks, baseline=(None, 0), reject=reject, preload=True, verbose = False)\n",
    "\n",
    "\n",
    "# downsampling to 250 Hz\n",
    "epochs = epochs.resample(250)\n",
    "epochs.save(\"Stroop_mouse_EEG_data/epochs/epochs_epo.fif\", overwrite=True)"
   ]
  },
  {
   "cell_type": "markdown",
   "id": "da05b736",
   "metadata": {},
   "source": [
    "### Plot epochs sorted by reaction times\n",
    "In order to plot the epochs sorted by reaction time, we need to provide the `plot_epochs_image` function with the overlay time and order. \n",
    "\n",
    "#### Overlay time and order\n",
    "\n",
    "**Overlay time:**\n",
    "Times (in seconds) at which to draw a line on the corresponding row of the image (e.g., a reaction time associated with each epoch). Note that overlay_times should be ordered to correspond with the Epochs object (i.e., overlay_times[0] corresponds to epochs[0], etc).\n",
    "\n",
    "**Order_**\n",
    "Order is used to reorder the epochs along the y-axis of the image. If it is an array of int, its length should match the number of good epochs. If it is a callable it should accept two positional parameters (times and data, where data.shape == (len(good_epochs), len(times))) and return an array of indices that will sort data along its first axis."
   ]
  },
  {
   "cell_type": "code",
   "execution_count": null,
   "id": "67352a8f",
   "metadata": {},
   "outputs": [],
   "source": [
    "# reading in data frame with reaction times\n",
    "data_mouse = pd.read_csv('Stroop_mouse_EEG_data/behavioural/trial_info.csv')\n",
    "\n",
    "# extracting reation times\n",
    "overlay_times_mouse = data_mouse['rt']\n",
    "\n",
    "# gettting the order (argsort returns the indicies which sorts the data)\n",
    "order = np.argsort(overlay_times_mouse)"
   ]
  },
  {
   "cell_type": "code",
   "execution_count": null,
   "id": "cce14e16",
   "metadata": {},
   "outputs": [],
   "source": [
    "# getting events\n",
    "events1, _  = mne.events_from_annotations(raw)\n",
    "\n",
    "# deleting the 18 first events which are practise trials\n",
    "events1 = np.delete(events1, [1, 2, 3, 4, 5, 6, 7, 8, 9, 10, 11, 12, 13, 14, 15, 16, 17, 18], 0)\n",
    "\n",
    "\n",
    "# for loop to delete events that are not images being shown (wordtriggers, and triggers that starts the experiment)\n",
    "delete_index = []\n",
    "\n",
    "# looping over the events\n",
    "for i in range(len(events1)):\n",
    "    trigger = events1[i][2]\n",
    "\n",
    "    if trigger in [12, 22, 32, 99999]:\n",
    "        # appending the index to the delete_index list\n",
    "        delete_index.append(i)\n",
    "\n",
    "\n",
    "# delete the events not wanted\n",
    "events1 = np.delete(events1, delete_index, axis=0)"
   ]
  },
  {
   "cell_type": "code",
   "execution_count": null,
   "id": "4f7a1df3",
   "metadata": {},
   "outputs": [],
   "source": [
    "# dictionary containing information of the events\n",
    "event_id1 = {'Image/cNeu': 11, # Image trigger neutral condition \n",
    "            'Image/cCon': 21, # Image trigger congruent condition  \n",
    "            'Image/cInc': 31  # Image trigger incongruent condition \n",
    "}\n",
    "\n",
    "# tmin and tmax\n",
    "tmin_rt, tmax_rt = -0.2, 1.75\n",
    "\n",
    "# choosing only EEG channels for epoching\n",
    "picks1 = mne.pick_types(raw.info, eeg=True, eog=False)\n",
    "\n",
    "# creating epocks\n",
    "epochs_overlay = mne.Epochs(raw, events1, event_id1, tmin_rt, tmax_rt, picks = picks1, baseline=(None, 0), reject=None, preload=True, verbose = True)\n",
    "epochs_overlay = epochs_overlay.resample(250)"
   ]
  },
  {
   "cell_type": "code",
   "execution_count": null,
   "id": "80527bde",
   "metadata": {},
   "outputs": [],
   "source": [
    "# Plotting select channels\n",
    "fig = mne.viz.plot_epochs_image(epochs_overlay, order=order, overlay_times=overlay_times_mouse, group_by={'FC5, FC1, C3' : [5, 6, 10]}, combine = 'mean')#, vmin = -30, vmax = 30)\n",
    "fig[0].size = (20, 10)\n",
    "fig[0].dpi = (300)\n",
    "fig[0].savefig('figures/sorted_rt.png')"
   ]
  },
  {
   "cell_type": "markdown",
   "id": "0c9fe60a",
   "metadata": {},
   "source": [
    "## Epoching with RT"
   ]
  },
  {
   "cell_type": "code",
   "execution_count": null,
   "id": "f996662a",
   "metadata": {},
   "outputs": [],
   "source": [
    "# reading in data frame with reaction times\n",
    "data_mouse = pd.read_csv('Stroop_mouse_EEG_data/behavioural/trial_info.csv')\n",
    "\n",
    "# deleting incorrect trials\n",
    "incorrect_trials = [22, 48, 86, 145, 153] \n",
    "data_mouse.drop([trial - 1 for trial in incorrect_trials])\n",
    "\n",
    "rt = data_mouse['rt']\n",
    "\n",
    "\n",
    "# Sampling rate\n",
    "sampling_rate_eeg = 1000/1                      # 1000 Hz\n",
    "\n",
    "\n",
    "# getting events\n",
    "events, _  = mne.events_from_annotations(raw)\n",
    "\n",
    "# deleting the 18 first events which are practise trials and incorrect trials\n",
    "incorrectinds = [(i*2+17) for i in incorrect_trials]\n",
    "incorrectinds.extend([i+1 for i in incorrectinds])\n",
    "\n",
    "practisetrials = [1, 2, 3, 4, 5, 6, 7, 8, 9, 10, 11, 12, 13, 14, 15, 16, 17, 18]\n",
    "\n",
    "remove =  practisetrials + incorrectinds\n",
    "\n",
    "events = np.delete(events, remove, 0)\n",
    "\n",
    "\n",
    "\n",
    "# for loop to delete events that are not images being shown (wordtriggers, and triggers that starts the experiment)\n",
    "delete_index = []\n",
    "\n",
    "# looping over the events\n",
    "for i in range(len(events)):\n",
    "    trigger = events[i][2]\n",
    "\n",
    "    if trigger in [12, 22, 32, 99999]:\n",
    "        # appending the index to the delete_index list\n",
    "        delete_index.append(i)\n",
    "\n",
    "\n",
    "# delete the events not wanted\n",
    "events = np.delete(events, delete_index, axis=0)\n",
    "\n",
    "for i in range(len(events)):\n",
    "    sample_time_img_trigger = events[i][0]\n",
    "    additional_samples = rt[i] * sampling_rate_eeg\n",
    "\n",
    "    events[i][0] = sample_time_img_trigger + additional_samples\n",
    "\n",
    "\n",
    "# dictionary containing information of the events\n",
    "event_id = {'cNeu': 11, # Image trigger neutral condition \n",
    "            'cCon': 21, # Image trigger congruent condition  \n",
    "            'cInc': 31, # Image trigger incongruent condition \n",
    "}\n",
    "\n",
    "# tmin and tmax\n",
    "tmin_tf, tmax_tf = -0.7, 0.7\n",
    "\n",
    "# baseline\n",
    "baseline = (0.3, 0.5)\n",
    "\n",
    "picks = mne.pick_types(raw.info, eeg=True, eog=False)\n",
    "\n",
    "# creating epocks\n",
    "epochs_tf = mne.Epochs(raw, events, event_id, tmin_tf, tmax_tf, picks = picks, baseline=baseline, reject=None, preload=True, verbose = True)\n",
    "epochs_tf = epochs_tf.resample(250)\n",
    "\n",
    "epochs_tf.save(\"Stroop_mouse_EEG_data/epochs/epochs_RT_epo.fif\", overwrite=True)"
   ]
  }
 ],
 "metadata": {
  "interpreter": {
   "hash": "bbfd61b9771b25adb48756b02878e03699aa9c48f369525daaaa61fe69c4b1b3"
  },
  "kernelspec": {
   "display_name": "Python 3.9.7 ('methods3')",
   "language": "python",
   "name": "python3"
  },
  "language_info": {
   "codemirror_mode": {
    "name": "ipython",
    "version": 3
   },
   "file_extension": ".py",
   "mimetype": "text/x-python",
   "name": "python",
   "nbconvert_exporter": "python",
   "pygments_lexer": "ipython3",
   "version": "3.9.7"
  },
  "toc": {
   "base_numbering": 1,
   "nav_menu": {},
   "number_sections": true,
   "sideBar": true,
   "skip_h1_title": false,
   "title_cell": "Table of Contents",
   "title_sidebar": "Contents",
   "toc_cell": false,
   "toc_position": {},
   "toc_section_display": true,
   "toc_window_display": false
  }
 },
 "nbformat": 4,
 "nbformat_minor": 5
}
