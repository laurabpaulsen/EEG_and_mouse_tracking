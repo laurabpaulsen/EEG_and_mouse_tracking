{
 "cells": [
  {
   "cell_type": "code",
   "execution_count": 1,
   "metadata": {},
   "outputs": [],
   "source": [
    "import pandas as pd"
   ]
  },
  {
   "cell_type": "code",
   "execution_count": 16,
   "metadata": {},
   "outputs": [
    {
     "name": "stdout",
     "output_type": "stream",
     "text": [
      "(649, 15)\n",
      "(9, 10)\n"
     ]
    }
   ],
   "source": [
    "columns_from_mouse_df = ['trial_number', 'phase', 'ID', 'age', 'gender', 'word', 'category','right_img', 'left_img', 'word_trigger','condition_trigger','img_trigger','trial_type', 'ypos', 'xpos', 'phase']\n",
    "columns_from_accuracy_df = ['trial_number', 'phase', 'onset_word', 'onset_img', 'correct_resp', 'rt', 'response', 'accuracy', 'condition_trigger_t', 'key_t']\n",
    "\n",
    "mouse_df = pd.read_csv('Stroop_mouse_EEG_data/2022-03-1406:58:51.593505.csv', usecols = columns_from_mouse_df)\n",
    "accuracy_df = pd.read_csv('Stroop_mouse_EEG_data/accuracy_2022-03-14 06:58:51.593505.csv', usecols = columns_from_accuracy_df)\n",
    "print(mouse_df.shape)\n",
    "print(accuracy_df.shape)\n"
   ]
  },
  {
   "cell_type": "code",
   "execution_count": 17,
   "metadata": {},
   "outputs": [
    {
     "name": "stdout",
     "output_type": "stream",
     "text": [
      "(649, 23)\n"
     ]
    }
   ],
   "source": [
    "df = mouse_df.merge(accuracy_df, on = ['trial_number', 'phase'], how = 'left')\n",
    "print(df.shape)"
   ]
  },
  {
   "cell_type": "code",
   "execution_count": null,
   "metadata": {},
   "outputs": [],
   "source": [
    "# filename3 = 'merged/' + str(V['ID']) + str(utc_time) + '.csv'\n",
    "# df.to_csv(filename3)"
   ]
  }
 ],
 "metadata": {
  "interpreter": {
   "hash": "bbfd61b9771b25adb48756b02878e03699aa9c48f369525daaaa61fe69c4b1b3"
  },
  "kernelspec": {
   "display_name": "Python 3.9.7 ('methods3')",
   "language": "python",
   "name": "python3"
  },
  "language_info": {
   "codemirror_mode": {
    "name": "ipython",
    "version": 3
   },
   "file_extension": ".py",
   "mimetype": "text/x-python",
   "name": "python",
   "nbconvert_exporter": "python",
   "pygments_lexer": "ipython3",
   "version": "3.9.7"
  },
  "orig_nbformat": 4
 },
 "nbformat": 4,
 "nbformat_minor": 2
}
