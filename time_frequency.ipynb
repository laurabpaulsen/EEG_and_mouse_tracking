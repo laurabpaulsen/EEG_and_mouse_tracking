{
 "cells": [
  {
   "cell_type": "markdown",
   "id": "54cc08db",
   "metadata": {},
   "source": [
    "## Loading modules & data"
   ]
  },
  {
   "cell_type": "code",
   "execution_count": null,
   "id": "0d71e537",
   "metadata": {},
   "outputs": [],
   "source": [
    "#! pip install mne"
   ]
  },
  {
   "cell_type": "code",
   "execution_count": null,
   "id": "e780bc5a-03de-4c82-8102-2cdd74b342ce",
   "metadata": {
    "execution": {
     "iopub.execute_input": "2022-03-16T15:35:44.776774Z",
     "iopub.status.busy": "2022-03-16T15:35:44.776264Z",
     "iopub.status.idle": "2022-03-16T15:35:44.783263Z",
     "shell.execute_reply": "2022-03-16T15:35:44.782141Z",
     "shell.execute_reply.started": "2022-03-16T15:35:44.776722Z"
    },
    "tags": []
   },
   "outputs": [],
   "source": [
    "# importing modules\n",
    "import numpy as np\n",
    "import mne\n",
    "import helper_functions as hf\n",
    "import matplotlib.pyplot as plt\n",
    "from mne.time_frequency import tfr_morlet\n",
    "from mne.stats import spatio_temporal_cluster_test, combine_adjacency\n",
    "from mne.channels import find_ch_adjacency"
   ]
  },
  {
   "cell_type": "markdown",
   "id": "5707dfb3",
   "metadata": {},
   "source": [
    "# Time-frequency analysis\n",
    "\n",
    "#### Reading in epochs\n",
    "The epochs saved in the `ICA.ipynb` is loaded in for analysis. The data has been cleaned using ICA, time-locked to the reaction time and downsampled to 250 Hz."
   ]
  },
  {
   "cell_type": "code",
   "execution_count": null,
   "id": "9ce235b0",
   "metadata": {},
   "outputs": [],
   "source": [
    "epochs = mne.read_epochs('Stroop_mouse_EEG_data/epochs/epochs_RT_epo.fif')"
   ]
  },
  {
   "cell_type": "code",
   "execution_count": null,
   "id": "6e366892",
   "metadata": {},
   "outputs": [],
   "source": [
    "leftcentralpicks = [5, 6, 10]\n",
    "mne.viz.plot_epochs_image(epochs, group_by={'Left central picks' : leftcentralpicks}, combine = 'mean', cmap = 'interactive', vmin=-40, vmax=40)"
   ]
  },
  {
   "cell_type": "markdown",
   "id": "b23bbb9d",
   "metadata": {},
   "source": [
    "Now lets look into what causes these deflections. This is done by making a time-frequency analysis of the epochs. "
   ]
  },
  {
   "cell_type": "markdown",
   "id": "f8e3ea96",
   "metadata": {},
   "source": [
    "#### Time-Frequency analysis"
   ]
  },
  {
   "cell_type": "code",
   "execution_count": null,
   "id": "3e660ef8",
   "metadata": {},
   "outputs": [],
   "source": [
    "#freqs = np.logspace(*np.log10([6, 35]), num=12)\n",
    "freqs = np.arange(7, 30, 1)\n",
    "n_cycles = freqs / 2.  # different number of cycle per frequency\n",
    "power, itc =  mne.time_frequency.tfr_morlet(epochs, freqs=freqs, n_cycles=n_cycles, use_fft=True,\n",
    "                        return_itc=True, decim=3, n_jobs=1)"
   ]
  },
  {
   "cell_type": "markdown",
   "id": "a84fa86f",
   "metadata": {},
   "source": [
    "#### Plotting Alpha waves"
   ]
  },
  {
   "cell_type": "code",
   "execution_count": null,
   "id": "5206708b",
   "metadata": {},
   "outputs": [],
   "source": [
    "fig, axis = plt.subplots(1, 2, figsize=(12, 6), dpi = 300)\n",
    "\n",
    "baseline = (0.3, 0.5)\n",
    "power.plot_topomap(ch_type='eeg', tmin=-0.5, tmax=-0.25, fmin=7, fmax=12,\n",
    "                   baseline=baseline, mode='logratio', axes=axis[0],\n",
    "                   title='Alpha (-0.5 to -0.25)', show=False, vmin = -.16, vmax = .16)\n",
    "\n",
    "power.plot_topomap(ch_type='eeg', tmin=-0.25, tmax=0.1, fmin=7, fmax=12,\n",
    "                   baseline=baseline, mode='logratio', axes=axis[1],\n",
    "                   title='Alpha (-0.25 to 0.1)', show=False, vmin = -.16, vmax = .16)\n",
    "\n",
    "mne.viz.tight_layout()\n",
    "plt.savefig('figures/time_frequency_alpha_topomaps.png')\n",
    "plt.show()"
   ]
  },
  {
   "cell_type": "code",
   "execution_count": null,
   "id": "9ac545ad",
   "metadata": {},
   "outputs": [],
   "source": [
    "# NOTE:See if we can take some kind of average to include all channels in one plot???\n",
    "power.plot(mode='mean', picks = leftcentralpicks,baseline = (0.3, 0.5), tmin = -.7, tmax = .6, fmin = 7, fmax = 12);"
   ]
  },
  {
   "cell_type": "markdown",
   "metadata": {},
   "source": [
    "We see that the alpha waves are reduced just before and while the action is done and then rebounds afterwards. alpha waves \"locks\" a given network in a dominating rhythm, and when this rhythm is supressed it opens up for other processing in the given area (i.e, initiating a motor action)."
   ]
  },
  {
   "cell_type": "markdown",
   "id": "4babc063",
   "metadata": {},
   "source": [
    "#### Plotting beta rhythms"
   ]
  },
  {
   "cell_type": "code",
   "execution_count": null,
   "id": "75bd2adb",
   "metadata": {},
   "outputs": [],
   "source": [
    "power.plot(mode='mean', picks = leftcentralpicks,baseline = (0.3, 0.5), tmin = -.7, tmax = .6, fmin = 12, fmax = 30);"
   ]
  },
  {
   "cell_type": "markdown",
   "id": "cfb336b4",
   "metadata": {},
   "source": [
    "#### Contrasting across conditions\n",
    "How to understand this? higher inhibition of motor reponse??? Super interesting if that is the case.\n",
    "\n",
    "\n",
    "**Link to code:**\n",
    "https://berdakh.github.io/blog/eeg/jupyter/2020/09/14/MNE-Tutorial-part-2.html#Time-Frequency-stuff"
   ]
  },
  {
   "cell_type": "code",
   "execution_count": null,
   "id": "85e581bb",
   "metadata": {},
   "outputs": [],
   "source": [
    "n_cycles = freqs / 2.  # different number of cycle per frequency\n",
    "power_inc, itc_inc =  mne.time_frequency.tfr_morlet(epochs['cInc'], freqs=freqs, n_cycles=n_cycles, use_fft=True,\n",
    "                        return_itc=True, n_jobs=1)\n",
    "power_con, itc_con =  mne.time_frequency.tfr_morlet(epochs['cCon'], freqs=freqs, n_cycles=n_cycles, use_fft=True,\n",
    "                        return_itc=True, n_jobs=1)\n",
    "power_neu, itc_neu =  mne.time_frequency.tfr_morlet(epochs['cNeu'], freqs=freqs, n_cycles=n_cycles, use_fft=True,\n",
    "                        return_itc=True, n_jobs=1)\n",
    "power_all, itc_all =  mne.time_frequency.tfr_morlet(epochs, freqs=freqs, n_cycles=n_cycles, use_fft=True,\n",
    "                        return_itc=True, n_jobs=1)"
   ]
  },
  {
   "cell_type": "markdown",
   "id": "6e0f5b2d",
   "metadata": {},
   "source": [
    "## Comparison of mean power in the conditions"
   ]
  },
  {
   "cell_type": "markdown",
   "id": "3c60f8f1",
   "metadata": {},
   "source": [
    "**Mu rhythms**\n",
    "7-12 Hz\n",
    "\n",
    "**Lower beta rhythms**\n",
    "12-18 Hz\n",
    "\n",
    "**Higher beta rhytms**\n",
    "18-30 Hz"
   ]
  },
  {
   "cell_type": "code",
   "execution_count": null,
   "id": "4784dc20",
   "metadata": {},
   "outputs": [],
   "source": [
    "freq_ind_b = 0\n",
    "freq_ind_a = 5\n",
    "time_ind_b = 70\n",
    "time_ind_a = 300\n",
    "\n",
    "\n",
    "## averaging over alpha frequencies\n",
    "average_con = hf.average_power_time(power_con, leftcentralpicks, freq_ind_b, freq_ind_a, time_ind_b, time_ind_a)\n",
    "average_inc = hf.average_power_time(power_inc, leftcentralpicks, freq_ind_b, freq_ind_a, time_ind_b, time_ind_a)\n",
    "average_neu = hf.average_power_time(power_neu, leftcentralpicks, freq_ind_b, freq_ind_a, time_ind_b, time_ind_a)\n",
    "\n",
    "\n",
    "freq_ind_b = 5\n",
    "freq_ind_a = 11\n",
    "\n",
    "## averaging over low beta frequencies\n",
    "average_con_low = hf.average_power_time(power_con, leftcentralpicks, freq_ind_b, freq_ind_a, time_ind_b, time_ind_a)\n",
    "average_inc_low = hf.average_power_time(power_inc, leftcentralpicks, freq_ind_b, freq_ind_a, time_ind_b, time_ind_a)\n",
    "average_neu_low = hf.average_power_time(power_neu, leftcentralpicks, freq_ind_b, freq_ind_a, time_ind_b, time_ind_a)\n",
    "\n",
    "freq_ind_b = 11\n",
    "freq_ind_a = 22\n",
    "\n",
    "## averaging over high beta frequencies\n",
    "#average_con_high = hf.average_power_time(power_con, leftcentralpicks, freq_ind_b, freq_ind_a, time_ind_b, time_ind_a)\n",
    "#average_inc_high = hf.average_power_time(power_inc, leftcentralpicks, freq_ind_b, freq_ind_a, time_ind_b, time_ind_a)\n",
    "#average_neu_high = hf.average_power_time(power_neu, leftcentralpicks, freq_ind_b, freq_ind_a, time_ind_b, time_ind_a)"
   ]
  },
  {
   "cell_type": "code",
   "execution_count": null,
   "id": "7c24a4c7",
   "metadata": {},
   "outputs": [],
   "source": [
    "times = power_con.times[time_ind_b:time_ind_a]"
   ]
  },
  {
   "cell_type": "code",
   "execution_count": null,
   "id": "58a73fd8",
   "metadata": {},
   "outputs": [],
   "source": [
    "fig, axis = plt.subplots(1, 2, figsize=(14, 6), dpi=300)\n",
    "axis[0].plot(times, average_con, 'lightblue', label = 'Congruent')\n",
    "axis[0].plot(times, average_inc, 'steelblue', label = 'Incongruent')\n",
    "axis[0].axvline(x=0.0, color='black', linestyle='--')\n",
    "axis[0].title.set_text('7-12 Hz')\n",
    "\n",
    "axis[1].plot(times, average_con_low, 'lightblue', label = 'Congruent')\n",
    "axis[1].plot(times, average_inc_low, 'steelblue', label = 'Incongruent')\n",
    "axis[1].title.set_text('12-18 Hz')\n",
    "axis[1].axvline(x=0.0, color='black', linestyle='--')\n",
    "axis[1].legend(loc = 'upper right')\n",
    "\n",
    "#axis[2].plot(times, average_con_high, 'steelblue', label = 'Congruent')\n",
    "#axis[2].plot(times, average_inc_high, 'lightblue', label = 'Incongruent')\n",
    "#axis[2].legend(loc = 'upper right')\n",
    "#axis[2].title.set_text('18-30 Hz')\n",
    "\n",
    "fig.suptitle('Average Power (C3, FC1, FC3)', fontsize=18)\n",
    "fig.savefig('figures/average_power_time.png')"
   ]
  },
  {
   "cell_type": "markdown",
   "id": "16ef8a59",
   "metadata": {},
   "source": [
    "## Cluster-based permutation test on tfr\n",
    "\n",
    "https://mne.tools/stable/generated/mne.stats.permutation_cluster_test.html\n",
    "\n",
    "**Notes:** The null hypothesis of this test is that the time frequency representation in the experimental conditions arise from the same probability distribution. Multiple factors influence this type of test, like the signal-to-noise ratio, the threshold chosen to select samples to belong to a cluster and the number of trials. "
   ]
  },
  {
   "cell_type": "code",
   "execution_count": null,
   "id": "cd06de80",
   "metadata": {},
   "outputs": [],
   "source": [
    "baseline = (0.3, 0.5)"
   ]
  },
  {
   "cell_type": "markdown",
   "id": "c3f51107",
   "metadata": {},
   "source": [
    "**Note:** Data should have shape (observations, frequencies, channels/vertices)"
   ]
  },
  {
   "cell_type": "code",
   "execution_count": null,
   "id": "c507b26e",
   "metadata": {},
   "outputs": [],
   "source": [
    "epochs_power = list()\n",
    "for condition in [epochs[k] for k in ('cCon', 'cInc')]:\n",
    "    this_tfr = tfr_morlet(condition, freqs, n_cycles=n_cycles, average=False, return_itc=False)\n",
    "    this_tfr.apply_baseline(mode='ratio', baseline=baseline)\n",
    "    epochs_power.append(this_tfr.data)\n",
    "\n",
    "# transpose again to (epochs, times, frequencies, vertices)\n",
    "X = [np.transpose(x, (0, 3, 2, 1)) for x in epochs_power]"
   ]
  },
  {
   "cell_type": "markdown",
   "id": "c323679e",
   "metadata": {},
   "source": [
    "Adjacency matrix!"
   ]
  },
  {
   "cell_type": "code",
   "execution_count": null,
   "id": "ae892ee5",
   "metadata": {},
   "outputs": [],
   "source": [
    "adjacency, ch_names = find_ch_adjacency(epochs.info, ch_type='eeg')\n",
    "\n",
    "print(type(adjacency))  # it's a sparse matrix!\n",
    "\n",
    "fig, ax = plt.subplots(figsize=(5, 4))\n",
    "ax.imshow(adjacency.toarray(), cmap='gray', origin='lower',\n",
    "          interpolation='nearest')\n",
    "ax.set_xlabel('{} Magnetometers'.format(len(ch_names)))\n",
    "ax.set_ylabel('{} Magnetometers'.format(len(ch_names)))\n",
    "ax.set_title('Between-sensor adjacency')\n",
    "fig.tight_layout()\n",
    "\n",
    "tfr_adjacency = combine_adjacency(\n",
    "    len(freqs), len(this_tfr.times), adjacency)"
   ]
  },
  {
   "cell_type": "code",
   "execution_count": null,
   "id": "734f885a",
   "metadata": {},
   "outputs": [],
   "source": [
    "F_obs, clusters, p_values, _ = spatio_temporal_cluster_test(\n",
    "    X, n_permutations=1000, tail=1, n_jobs=1, adjacency=tfr_adjacency)"
   ]
  }
 ],
 "metadata": {
  "interpreter": {
   "hash": "bbfd61b9771b25adb48756b02878e03699aa9c48f369525daaaa61fe69c4b1b3"
  },
  "kernelspec": {
   "display_name": "Python 3.9.7 ('methods3')",
   "language": "python",
   "name": "python3"
  },
  "language_info": {
   "codemirror_mode": {
    "name": "ipython",
    "version": 3
   },
   "file_extension": ".py",
   "mimetype": "text/x-python",
   "name": "python",
   "nbconvert_exporter": "python",
   "pygments_lexer": "ipython3",
   "version": "3.9.7"
  },
  "toc": {
   "base_numbering": 1,
   "nav_menu": {},
   "number_sections": true,
   "sideBar": true,
   "skip_h1_title": false,
   "title_cell": "Table of Contents",
   "title_sidebar": "Contents",
   "toc_cell": false,
   "toc_position": {},
   "toc_section_display": true,
   "toc_window_display": false
  }
 },
 "nbformat": 4,
 "nbformat_minor": 5
}
